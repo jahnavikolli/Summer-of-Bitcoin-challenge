{
 "cells": [
  {
   "cell_type": "code",
   "execution_count": 1,
   "metadata": {},
   "outputs": [],
   "source": [
    "import pandas as pd\n"
   ]
  },
  {
   "cell_type": "code",
   "execution_count": 11,
   "metadata": {},
   "outputs": [
    {
     "data": {
      "text/html": [
       "<div>\n",
       "<style scoped>\n",
       "    .dataframe tbody tr th:only-of-type {\n",
       "        vertical-align: middle;\n",
       "    }\n",
       "\n",
       "    .dataframe tbody tr th {\n",
       "        vertical-align: top;\n",
       "    }\n",
       "\n",
       "    .dataframe thead th {\n",
       "        text-align: right;\n",
       "    }\n",
       "</style>\n",
       "<table border=\"1\" class=\"dataframe\">\n",
       "  <thead>\n",
       "    <tr style=\"text-align: right;\">\n",
       "      <th></th>\n",
       "      <th>tx_id</th>\n",
       "      <th>fee</th>\n",
       "      <th>weight</th>\n",
       "      <th>parents</th>\n",
       "    </tr>\n",
       "  </thead>\n",
       "  <tbody>\n",
       "    <tr>\n",
       "      <td>0</td>\n",
       "      <td>2e3da8fbc1eaca8ed9b7c2db9e6545d8ccac3c67deadee...</td>\n",
       "      <td>452</td>\n",
       "      <td>1620</td>\n",
       "      <td>NaN</td>\n",
       "    </tr>\n",
       "    <tr>\n",
       "      <td>1</td>\n",
       "      <td>79c51c9d4124c5cbb37a85263748dcf44e182dff83561f...</td>\n",
       "      <td>682</td>\n",
       "      <td>1136</td>\n",
       "      <td>6eb38fad135e38a93cb47a15a5f953cbc0563fd84bf1ab...</td>\n",
       "    </tr>\n",
       "    <tr>\n",
       "      <td>2</td>\n",
       "      <td>b0ef627c8dc2a706475d33d7712209ec779f7a8302aaea...</td>\n",
       "      <td>226</td>\n",
       "      <td>900</td>\n",
       "      <td>NaN</td>\n",
       "    </tr>\n",
       "    <tr>\n",
       "      <td>3</td>\n",
       "      <td>8c25f9be93990b96e8bc363778d6debee6867c7d73cefa...</td>\n",
       "      <td>258</td>\n",
       "      <td>1032</td>\n",
       "      <td>NaN</td>\n",
       "    </tr>\n",
       "    <tr>\n",
       "      <td>4</td>\n",
       "      <td>edc82751537be6afcb21c0229d8d20916d8e742a363ab2...</td>\n",
       "      <td>452</td>\n",
       "      <td>1616</td>\n",
       "      <td>NaN</td>\n",
       "    </tr>\n",
       "  </tbody>\n",
       "</table>\n",
       "</div>"
      ],
      "text/plain": [
       "                                               tx_id  fee  weight  \\\n",
       "0  2e3da8fbc1eaca8ed9b7c2db9e6545d8ccac3c67deadee...  452    1620   \n",
       "1  79c51c9d4124c5cbb37a85263748dcf44e182dff83561f...  682    1136   \n",
       "2  b0ef627c8dc2a706475d33d7712209ec779f7a8302aaea...  226     900   \n",
       "3  8c25f9be93990b96e8bc363778d6debee6867c7d73cefa...  258    1032   \n",
       "4  edc82751537be6afcb21c0229d8d20916d8e742a363ab2...  452    1616   \n",
       "\n",
       "                                            parents   \n",
       "0                                                NaN  \n",
       "1  6eb38fad135e38a93cb47a15a5f953cbc0563fd84bf1ab...  \n",
       "2                                                NaN  \n",
       "3                                                NaN  \n",
       "4                                                NaN  "
      ]
     },
     "execution_count": 11,
     "metadata": {},
     "output_type": "execute_result"
    }
   ],
   "source": [
    "df  = pd.read_csv(\"mempool.csv\")\n",
    "df.head()\n"
   ]
  },
  {
   "cell_type": "code",
   "execution_count": 12,
   "metadata": {},
   "outputs": [
    {
     "data": {
      "text/html": [
       "<div>\n",
       "<style scoped>\n",
       "    .dataframe tbody tr th:only-of-type {\n",
       "        vertical-align: middle;\n",
       "    }\n",
       "\n",
       "    .dataframe tbody tr th {\n",
       "        vertical-align: top;\n",
       "    }\n",
       "\n",
       "    .dataframe thead th {\n",
       "        text-align: right;\n",
       "    }\n",
       "</style>\n",
       "<table border=\"1\" class=\"dataframe\">\n",
       "  <thead>\n",
       "    <tr style=\"text-align: right;\">\n",
       "      <th></th>\n",
       "      <th>tx_id</th>\n",
       "      <th>fee</th>\n",
       "      <th>weight</th>\n",
       "      <th>parents</th>\n",
       "    </tr>\n",
       "  </thead>\n",
       "  <tbody>\n",
       "    <tr>\n",
       "      <td>0</td>\n",
       "      <td>2e3da8fbc1eaca8ed9b7c2db9e6545d8ccac3c67deadee...</td>\n",
       "      <td>452</td>\n",
       "      <td>1620</td>\n",
       "      <td>NaN</td>\n",
       "    </tr>\n",
       "    <tr>\n",
       "      <td>1</td>\n",
       "      <td>79c51c9d4124c5cbb37a85263748dcf44e182dff83561f...</td>\n",
       "      <td>682</td>\n",
       "      <td>1136</td>\n",
       "      <td>6eb38fad135e38a93cb47a15a5f953cbc0563fd84bf1ab...</td>\n",
       "    </tr>\n",
       "    <tr>\n",
       "      <td>2</td>\n",
       "      <td>b0ef627c8dc2a706475d33d7712209ec779f7a8302aaea...</td>\n",
       "      <td>226</td>\n",
       "      <td>900</td>\n",
       "      <td>NaN</td>\n",
       "    </tr>\n",
       "    <tr>\n",
       "      <td>3</td>\n",
       "      <td>8c25f9be93990b96e8bc363778d6debee6867c7d73cefa...</td>\n",
       "      <td>258</td>\n",
       "      <td>1032</td>\n",
       "      <td>NaN</td>\n",
       "    </tr>\n",
       "    <tr>\n",
       "      <td>4</td>\n",
       "      <td>edc82751537be6afcb21c0229d8d20916d8e742a363ab2...</td>\n",
       "      <td>452</td>\n",
       "      <td>1616</td>\n",
       "      <td>NaN</td>\n",
       "    </tr>\n",
       "  </tbody>\n",
       "</table>\n",
       "</div>"
      ],
      "text/plain": [
       "                                               tx_id  fee  weight  \\\n",
       "0  2e3da8fbc1eaca8ed9b7c2db9e6545d8ccac3c67deadee...  452    1620   \n",
       "1  79c51c9d4124c5cbb37a85263748dcf44e182dff83561f...  682    1136   \n",
       "2  b0ef627c8dc2a706475d33d7712209ec779f7a8302aaea...  226     900   \n",
       "3  8c25f9be93990b96e8bc363778d6debee6867c7d73cefa...  258    1032   \n",
       "4  edc82751537be6afcb21c0229d8d20916d8e742a363ab2...  452    1616   \n",
       "\n",
       "                                            parents   \n",
       "0                                                NaN  \n",
       "1  6eb38fad135e38a93cb47a15a5f953cbc0563fd84bf1ab...  \n",
       "2                                                NaN  \n",
       "3                                                NaN  \n",
       "4                                                NaN  "
      ]
     },
     "execution_count": 12,
     "metadata": {},
     "output_type": "execute_result"
    }
   ],
   "source": [
    "\n",
    "\n",
    "#to drop rows or columns whose value is empty\n",
    "\n",
    "df.dropna(how = \"all\", inplace = True)\n",
    "df.head()"
   ]
  },
  {
   "cell_type": "code",
   "execution_count": 13,
   "metadata": {},
   "outputs": [
    {
     "data": {
      "text/plain": [
       "tx_id       object\n",
       "fee          int64\n",
       "weight       int64\n",
       "parents     object\n",
       "dtype: object"
      ]
     },
     "execution_count": 13,
     "metadata": {},
     "output_type": "execute_result"
    }
   ],
   "source": [
    "#checking the data types \n",
    "df.dtypes"
   ]
  },
  {
   "cell_type": "code",
   "execution_count": 25,
   "metadata": {},
   "outputs": [],
   "source": [
    "#class MempoolTransaction():\n",
    "def MenpoolTransaction(df):\n",
    "    #txid = txid\n",
    "    #fee = int(fee)\n",
    "    \n",
    "    df['ratio']= df.fee/df.weight\n",
    "               \n",
    "MenpoolTransaction(df)\n"
   ]
  },
  {
   "cell_type": "code",
   "execution_count": 28,
   "metadata": {},
   "outputs": [
    {
     "data": {
      "text/html": [
       "<div>\n",
       "<style scoped>\n",
       "    .dataframe tbody tr th:only-of-type {\n",
       "        vertical-align: middle;\n",
       "    }\n",
       "\n",
       "    .dataframe tbody tr th {\n",
       "        vertical-align: top;\n",
       "    }\n",
       "\n",
       "    .dataframe thead th {\n",
       "        text-align: right;\n",
       "    }\n",
       "</style>\n",
       "<table border=\"1\" class=\"dataframe\">\n",
       "  <thead>\n",
       "    <tr style=\"text-align: right;\">\n",
       "      <th></th>\n",
       "      <th>tx_id</th>\n",
       "      <th>fee</th>\n",
       "      <th>weight</th>\n",
       "      <th>parents</th>\n",
       "      <th>ratio</th>\n",
       "    </tr>\n",
       "  </thead>\n",
       "  <tbody>\n",
       "    <tr>\n",
       "      <td>0</td>\n",
       "      <td>2e3da8fbc1eaca8ed9b7c2db9e6545d8ccac3c67deadee...</td>\n",
       "      <td>452</td>\n",
       "      <td>1620</td>\n",
       "      <td>NaN</td>\n",
       "      <td>0.279012</td>\n",
       "    </tr>\n",
       "    <tr>\n",
       "      <td>1</td>\n",
       "      <td>79c51c9d4124c5cbb37a85263748dcf44e182dff83561f...</td>\n",
       "      <td>682</td>\n",
       "      <td>1136</td>\n",
       "      <td>6eb38fad135e38a93cb47a15a5f953cbc0563fd84bf1ab...</td>\n",
       "      <td>0.600352</td>\n",
       "    </tr>\n",
       "    <tr>\n",
       "      <td>2</td>\n",
       "      <td>b0ef627c8dc2a706475d33d7712209ec779f7a8302aaea...</td>\n",
       "      <td>226</td>\n",
       "      <td>900</td>\n",
       "      <td>NaN</td>\n",
       "      <td>0.251111</td>\n",
       "    </tr>\n",
       "    <tr>\n",
       "      <td>3</td>\n",
       "      <td>8c25f9be93990b96e8bc363778d6debee6867c7d73cefa...</td>\n",
       "      <td>258</td>\n",
       "      <td>1032</td>\n",
       "      <td>NaN</td>\n",
       "      <td>0.250000</td>\n",
       "    </tr>\n",
       "    <tr>\n",
       "      <td>4</td>\n",
       "      <td>edc82751537be6afcb21c0229d8d20916d8e742a363ab2...</td>\n",
       "      <td>452</td>\n",
       "      <td>1616</td>\n",
       "      <td>NaN</td>\n",
       "      <td>0.279703</td>\n",
       "    </tr>\n",
       "  </tbody>\n",
       "</table>\n",
       "</div>"
      ],
      "text/plain": [
       "                                               tx_id  fee  weight  \\\n",
       "0  2e3da8fbc1eaca8ed9b7c2db9e6545d8ccac3c67deadee...  452    1620   \n",
       "1  79c51c9d4124c5cbb37a85263748dcf44e182dff83561f...  682    1136   \n",
       "2  b0ef627c8dc2a706475d33d7712209ec779f7a8302aaea...  226     900   \n",
       "3  8c25f9be93990b96e8bc363778d6debee6867c7d73cefa...  258    1032   \n",
       "4  edc82751537be6afcb21c0229d8d20916d8e742a363ab2...  452    1616   \n",
       "\n",
       "                                            parents      ratio  \n",
       "0                                                NaN  0.279012  \n",
       "1  6eb38fad135e38a93cb47a15a5f953cbc0563fd84bf1ab...  0.600352  \n",
       "2                                                NaN  0.251111  \n",
       "3                                                NaN  0.250000  \n",
       "4                                                NaN  0.279703  "
      ]
     },
     "execution_count": 28,
     "metadata": {},
     "output_type": "execute_result"
    }
   ],
   "source": [
    "df.head()\n"
   ]
  },
  {
   "cell_type": "code",
   "execution_count": 52,
   "metadata": {},
   "outputs": [],
   "source": [
    "\n",
    "\n",
    "def parent(x, A):\n",
    "    if str(x) != \"nan\":\n",
    "        parent_list = str(x).split(\";\")\n",
    "        for i in parent_list:\n",
    "            if(A.count(i)):\n",
    "#                 print(\"Akhil\")\n",
    "                continue\n",
    "            else:\n",
    "                return False\n",
    "                #txnindex = df[df['tx_id'] == i].index.item()\n",
    "                #k = df.loc[txnindex]\n",
    "                #check_add_txn(k)\n",
    "                \n",
    "    return True\n",
    "            "
   ]
  },
  {
   "cell_type": "code",
   "execution_count": 54,
   "metadata": {},
   "outputs": [
    {
     "name": "stdout",
     "output_type": "stream",
     "text": [
      "5774636\n",
      "3999820\n"
     ]
    }
   ],
   "source": [
    "threshold = 0.3\n",
    "# for i in range(2000)\n",
    "# creating list  \n",
    "A =[]\n",
    "fe = 0\n",
    "we = 0;\n",
    "max_weight = 4000000\n",
    "for j in range(10):\n",
    "    for i in range(len(df)):\n",
    "        if(parent(df.iloc[i,3],A) and df.iloc[i,4] > threshold and we+df.iloc[i,2]<=max_weight):\n",
    "            A.append(df.iloc[i,0])\n",
    "            fe += df.iloc[i,1]\n",
    "            we += df.iloc[i,2]\n",
    "# for i in A:\n",
    "#     print(i)\n",
    "print(fe)\n",
    "print(we)\n",
    "def write_to_file(fin_list):\n",
    "    file = open(\"block.txt\",\"a\")\n",
    "    for i in fin_list:\n",
    "        file.write(str(i) + '\\n')\n",
    "    file.close()\n",
    "write_to_file(A)"
   ]
  },
  {
   "cell_type": "markdown",
   "metadata": {},
   "source": []
  }
 ],
 "metadata": {
  "kernelspec": {
   "display_name": "Python 3",
   "language": "python",
   "name": "python3"
  },
  "language_info": {
   "codemirror_mode": {
    "name": "ipython",
    "version": 3
   },
   "file_extension": ".py",
   "mimetype": "text/x-python",
   "name": "python",
   "nbconvert_exporter": "python",
   "pygments_lexer": "ipython3",
   "version": "3.7.4"
  }
 },
 "nbformat": 4,
 "nbformat_minor": 2
}
